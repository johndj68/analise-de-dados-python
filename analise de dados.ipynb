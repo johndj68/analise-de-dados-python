{
 "cells": [
  {
   "cell_type": "code",
   "execution_count": null,
   "metadata": {},
   "outputs": [],
   "source": [
    "#!pip install numpy\n",
    "#!pip install plotly"
   ]
  },
  {
   "cell_type": "code",
   "execution_count": null,
   "metadata": {},
   "outputs": [],
   "source": [
    "import pandas as pd\n",
    "\n",
    "tabela = pd.read_csv(\"telecom_users.csv\")\n",
    "tabela = tabela.drop(\"Unnamed: 0\",axis=1)\n",
    "display(tabela)\n",
    "tabela[\"TotalGasto\"]=pd.to_numeric(tabela[\"TotalGasto\"],errors=\"coerce\")\n",
    "tabela = tabela.dropna(how=\"all\",axis=1)\n",
    "tabela = tabela.dropna(how=\"any\",axis=0)\n",
    "print(tabela.info())\n",
    "print(tabela[\"Churn\"].value_counts())\n",
    "print(tabela[\"Churn\"].value_counts(normalize=True).map(\"{:.1%}\".format))\n",
    "import plotly.express as px\n",
    "for coluna in tabela.columns:\n",
    "    grafico = px.histogram(tabela,x=coluna,color=\"Churn\", text_auto=True)\n",
    "    grafico.show()"
   ]
  },
  {
   "cell_type": "code",
   "execution_count": null,
   "metadata": {},
   "outputs": [],
   "source": []
  }
 ],
 "metadata": {
  "kernelspec": {
   "display_name": "Python 3 (ipykernel)",
   "language": "python",
   "name": "python3"
  },
  "language_info": {
   "codemirror_mode": {
    "name": "ipython",
    "version": 3
   },
   "file_extension": ".py",
   "mimetype": "text/x-python",
   "name": "python",
   "nbconvert_exporter": "python",
   "pygments_lexer": "ipython3",
   "version": "3.10.5"
  }
 },
 "nbformat": 4,
 "nbformat_minor": 4
}
